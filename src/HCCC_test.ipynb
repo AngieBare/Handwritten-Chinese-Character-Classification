{
 "cells": [
  {
   "cell_type": "code",
   "execution_count": 16,
   "metadata": {},
   "outputs": [],
   "source": [
    "from gnt import GNT\n",
    "import os\n",
    "import zipfile\n",
    "import numpy as np\n",
    "import tensorflow\n",
    "from PIL import Image\n",
    "from keras import models\n",
    "from keras import layers\n",
    "from matplotlib import pyplot as plt\n",
    "from keras.utils import to_categorical\n",
    "from keras.models import load_model\n",
    "\n",
    "\n",
    "model = load_model('../model/HCCC_subset.h5')\n",
    "\n",
    "img = []\n",
    "for i in range(647):\n",
    "    img.append(Image.open(\"../imgs/\" + str(i + 1) + \".png\"))\n",
    "    img[-1] = np.array(img[-1])\n",
    "    \n",
    "img = np.array(img)\n",
    "img = img.reshape((647, 64, 64, 1))\n",
    "img = img.astype(\"float\") / 255\n",
    "predict = model.predict(img)\n",
    "predict = predict.tolist()\n",
    "char = []\n",
    "chinese = ['啊', '阿', '埃', '挨', '哎', '唉', '哀', '皑', '癌', '蔼', '矮', '艾', '碍', '爱', '隘', '鞍', '氨', '安', '俺', '按', '暗', '岸', '胺', '案', '肮', '昂', '盎', '凹', '敖', '熬', '翱', '袄', '傲', '奥', '懊', '澳', '芭', '捌', '扒', '叭', '吧', '笆', '八', '疤', '巴', '拔', '跋', '靶', '把', '耙', '坝', '霸', '罢', '爸', '白', '柏', '百', '摆', '佰', '败', '拜', '稗', '斑', '班', '搬', '扳', '般', '颁', '板', '版', '扮', '拌', '伴', '瓣', '半', '办', '绊', '邦', '帮', '梆', '榜', '膀', '绑', '棒', '磅', '蚌', '镑', '傍', '谤', '苞', '胞', '包', '褒', '剥', '薄', '雹', '保', '堡', '饱', '宝', '抱', '报', '暴', '豹', '鲍', '爆', '杯', '碑', '悲', '卑', '北', '辈', '背', '贝', '钡', '倍', '狈', '备', '惫', '焙', '被', '奔', '苯', '本', '笨', '崩', '绷', '甭']\n",
    "for i in predict:\n",
    "    char.append(i.index(max(i)))\n",
    "\n",
    "for i in range(647):\n",
    "    os.rename(\"../imgs/\" + str(i + 1) + \".png\", \"../imgs/\" + str(i + 1) + chinese[char[i]] + \".png\")"
   ]
  },
  {
   "cell_type": "code",
   "execution_count": null,
   "metadata": {},
   "outputs": [],
   "source": []
  }
 ],
 "metadata": {
  "kernelspec": {
   "display_name": "Python 3",
   "language": "python",
   "name": "python3"
  },
  "language_info": {
   "codemirror_mode": {
    "name": "ipython",
    "version": 3
   },
   "file_extension": ".py",
   "mimetype": "text/x-python",
   "name": "python",
   "nbconvert_exporter": "python",
   "pygments_lexer": "ipython3",
   "version": "3.7.3"
  }
 },
 "nbformat": 4,
 "nbformat_minor": 4
}
